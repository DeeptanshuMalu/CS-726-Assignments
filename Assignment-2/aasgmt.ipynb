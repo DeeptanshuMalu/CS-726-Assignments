{
 "cells": [
  {
   "cell_type": "code",
   "execution_count": 1,
   "metadata": {},
   "outputs": [
    {
     "name": "stderr",
     "output_type": "stream",
     "text": [
      "/users/ug22/deevyanshumalu/miniconda3/envs/cs726env/lib/python3.8/site-packages/tqdm/auto.py:21: TqdmWarning: IProgress not found. Please update jupyter and ipywidgets. See https://ipywidgets.readthedocs.io/en/stable/user_install.html\n",
      "  from .autonotebook import tqdm as notebook_tqdm\n"
     ]
    }
   ],
   "source": [
    "import torch\n",
    "import torch.utils\n",
    "import torch.utils.data\n",
    "from tqdm.auto import tqdm\n",
    "from torch import nn\n",
    "import argparse\n",
    "import torch.nn.functional as F\n",
    "import utils\n",
    "import dataset\n",
    "import os\n",
    "import matplotlib.pyplot as plt"
   ]
  },
  {
   "cell_type": "code",
   "execution_count": 2,
   "metadata": {},
   "outputs": [],
   "source": [
    "def init_linear_scheduler(beta_st, beta_end, time_steps):\n",
    "    #Return an array of beta values which is linear\n",
    "    betas = torch.linspace(beta_st, beta_end, time_steps)\n",
    "    alphas = 1 - betas\n",
    "    return alphas"
   ]
  },
  {
   "cell_type": "markdown",
   "metadata": {},
   "source": [
    "https://www.reddit.com/r/MachineLearning/comments/10chtws/d_time_embedding_in_diffusion_model/?rdt=54207"
   ]
  },
  {
   "cell_type": "code",
   "execution_count": null,
   "metadata": {},
   "outputs": [],
   "source": [
    "class DDPM(nn.Module):\n",
    "    def __init__(self, n_dim = 3,n_steps = 200):\n",
    "        self.time_embed = nn.Sequential(\n",
    "                SinusoidalPositionEmbeddings(time_emb_dim),\n",
    "                nn.Linear(time_emb_dim, time_emb_dim),\n",
    "                nn.ReLU()\n",
    "            )\n",
    "        self.model = Unet_model()\n",
    "\n",
    "class SinusoidalPositionEmbeddings(nn.Module):\n",
    "    def __init__(self, n_dim):\n",
    "        super().__init__()\n",
    "        self.n_dim = n_dim\n",
    "    def forward(self, time):\n",
    "        device = time.device\n",
    "        half_dim = self.n_dim // 2\n",
    "        embeddings = torch.log(10000)/(half_dim - 1)\n",
    "        embeddings = torch.exp(torch.arange(half_dim, device = device) * -embeddings)\n",
    "        embeddings = time[:,None] * embeddings[None,:]\n",
    "        embeddings = torch.cat([torch.sin(embeddings), torch.cos(embeddings)], dim = -1)\n",
    "        return embeddings\n",
    "\n",
    "class Unet_model():"
   ]
  },
  {
   "cell_type": "code",
   "execution_count": 2,
   "metadata": {},
   "outputs": [],
   "source": [
    "class NoiseScheduler():\n",
    "    \"\"\"\n",
    "    Noise scheduler for the DDPM model\n",
    "\n",
    "    Args:\n",
    "        num_timesteps: int, the number of timesteps\n",
    "        type: str, the type of scheduler to use\n",
    "        **kwargs: additional arguments for the scheduler\n",
    "\n",
    "    This object sets up all the constants like alpha, beta, sigma, etc. required for the DDPM model\n",
    "    \n",
    "    \"\"\"\n",
    "    def __init__(self, num_timesteps=50, type=\"linear\", **kwargs):\n",
    "\n",
    "        self.num_timesteps = num_timesteps\n",
    "        self.type = type\n",
    "\n",
    "        if type == \"linear\":\n",
    "            self.init_linear_schedule(**kwargs)\n",
    "        else:\n",
    "            raise NotImplementedError(f\"{type} scheduler is not implemented\") # change this if you implement additional schedulers\n",
    "\n",
    "\n",
    "    def init_linear_schedule(self, beta_start, beta_end):\n",
    "        \"\"\"\n",
    "        Precompute whatever quantities are required for training and sampling\n",
    "        \"\"\"\n",
    "\n",
    "        self.betas = torch.linspace(beta_start, beta_end, self.num_timesteps, dtype=torch.float32)\n",
    "\n",
    "        self.alphas = 1 - self.betas\n",
    "\n",
    "    def __len__(self):\n",
    "        return self.num_timesteps\n",
    "    \n"
   ]
  },
  {
   "cell_type": "code",
   "execution_count": 3,
   "metadata": {},
   "outputs": [],
   "source": [
    "s = NoiseScheduler(50, type=\"linear\", beta_start=0.1, beta_end=0.9)"
   ]
  },
  {
   "cell_type": "code",
   "execution_count": 4,
   "metadata": {},
   "outputs": [
    {
     "data": {
      "text/plain": [
       "50"
      ]
     },
     "execution_count": 4,
     "metadata": {},
     "output_type": "execute_result"
    }
   ],
   "source": [
    "s.num_timesteps"
   ]
  }
 ],
 "metadata": {
  "kernelspec": {
   "display_name": "cs726env",
   "language": "python",
   "name": "python3"
  },
  "language_info": {
   "codemirror_mode": {
    "name": "ipython",
    "version": 3
   },
   "file_extension": ".py",
   "mimetype": "text/x-python",
   "name": "python",
   "nbconvert_exporter": "python",
   "pygments_lexer": "ipython3",
   "version": "3.8.20"
  }
 },
 "nbformat": 4,
 "nbformat_minor": 2
}
